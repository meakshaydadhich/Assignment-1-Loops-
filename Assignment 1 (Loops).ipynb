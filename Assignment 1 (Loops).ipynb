{
 "cells": [
  {
   "cell_type": "code",
   "execution_count": 1,
   "id": "021c97b4",
   "metadata": {},
   "outputs": [
    {
     "name": "stdout",
     "output_type": "stream",
     "text": [
      "1 2 3 4 5 6 7 8 9 10 "
     ]
    }
   ],
   "source": [
    "# Q.1 Explain with an example each when to use a for loop and a while loop.\n",
    "\n",
    "# Ans. The 'While' and 'for' loops in Python are very similar to each other and\n",
    "#    it's easy to get confused. Therefore, remember that the 'for' loop repeats\n",
    "#    for a predetermined number of times depending on the length of the \n",
    "#    sequence. A 'While' loop on the other hand, will keep running as long as \n",
    "#    the condition is true.\n",
    "\n",
    "# Example of while loop:\n",
    "i = 1\n",
    "while i<=10:\n",
    "    print(i, end = \" \")\n",
    "    i += 1"
   ]
  },
  {
   "cell_type": "code",
   "execution_count": 2,
   "id": "529985d7",
   "metadata": {},
   "outputs": [
    {
     "name": "stdout",
     "output_type": "stream",
     "text": [
      "Enter your value: 2\n",
      "[2, 4, 6, 8, 10, 12, 14, 16, 18, 20]\n"
     ]
    }
   ],
   "source": [
    "# Example of for loop:\n",
    "input1 = int(input(\"Enter your value: \"))\n",
    "l1 = []\n",
    "for i in range(1,11):\n",
    "    l1.append(i*input1)\n",
    "print(l1)"
   ]
  },
  {
   "cell_type": "code",
   "execution_count": 3,
   "id": "55598ed8",
   "metadata": {},
   "outputs": [
    {
     "name": "stdout",
     "output_type": "stream",
     "text": [
      "55\n",
      "3628800\n"
     ]
    }
   ],
   "source": [
    "# Q.2 Write a python program to print the sum and product of the first 10 \n",
    "#     natural numbers using for and while loop.\n",
    "\n",
    "# Example using for loop:\n",
    "# Calculating Sum \n",
    "sum = 0\n",
    "for i in range(1,11):\n",
    "    sum += i\n",
    "print(sum)\n",
    "\n",
    "# Calculating Product\n",
    "product = 1\n",
    "for i in range(1,11):\n",
    "    product *= i\n",
    "print(product)\n"
   ]
  },
  {
   "cell_type": "code",
   "execution_count": 4,
   "id": "5f45a5d0",
   "metadata": {},
   "outputs": [
    {
     "name": "stdout",
     "output_type": "stream",
     "text": [
      "55\n",
      "3628800\n"
     ]
    }
   ],
   "source": [
    "# Example using While loop:\n",
    "# Calculating Sum\n",
    "sum = 0\n",
    "count = 1\n",
    "while count<= 10:\n",
    "    sum += count\n",
    "    count+=1\n",
    "print(sum)\n",
    "\n",
    "# Calculating Product\n",
    "Product1 = 1\n",
    "count1 = 1\n",
    "while count1 <=10:\n",
    "    Product1 *= count1\n",
    "    count1 +=1\n",
    "print(Product1)"
   ]
  },
  {
   "cell_type": "code",
   "execution_count": null,
   "id": "9855224e",
   "metadata": {},
   "outputs": [],
   "source": [
    "# Q.3 Create a python program to compute the electricity bill for a household.\n",
    "\n",
    "#    The per-unit charges in rupees are as follows: For the first 100 units, the user will be charged Rs. 4.5 per\n",
    "#    unit, for the next 100 units, the user will be charged Rs. 6 per unit, and for the next 100 units, the user will\n",
    "#    be charged Rs. 10 per unit, After 300 units and above the user will be charged Rs. 20 per unit.\n",
    " \n",
    "#    You are required to take the units of electricity consumed in a month from the user as input.\n",
    "   \n",
    "#    Your program must pass this test case: when the unit of electricity consumed by the user in a month is\n",
    "#    310, the total electricity bill should be 2250."
   ]
  },
  {
   "cell_type": "code",
   "execution_count": 49,
   "id": "1efa03e2",
   "metadata": {},
   "outputs": [
    {
     "name": "stdout",
     "output_type": "stream",
     "text": [
      "Enter number of units used by user: 310\n",
      "The Total Electricity bill is :  2250.0\n"
     ]
    }
   ],
   "source": [
    "Units = int(input(\"Enter number of units used by user: \"))\n",
    "\n",
    "if (Units <= 100):\n",
    "    print(\"The Total Electricity bill is : \", Units*4.5)\n",
    "elif (Units <= 200):\n",
    "    print(\"The Total Electricity bill is : \", (100 * 4.5) + ((Units - 100) * 6))\n",
    "elif (Units <= 300):\n",
    "    print(\"The Total Electricity bill is : \", (100 * 4.5) + (100 * 6) + ((Units - 200) * 10))\n",
    "else:\n",
    "    print(\"The Total Electricity bill is : \", (100 * 4.5) + (100 * 6) + (100 * 10) + ((Units - 300) * 20))"
   ]
  },
  {
   "cell_type": "code",
   "execution_count": 11,
   "id": "0788673a",
   "metadata": {},
   "outputs": [],
   "source": [
    "# Q4. Create a list of numbers from 1 to 100. Use for loop and while loop to calculate the cube of each\n",
    "#     number and if the cube of that number is divisible by 4 or 5 then append that number in a list and print\n",
    "#     that list."
   ]
  },
  {
   "cell_type": "code",
   "execution_count": 32,
   "id": "8c7e9282",
   "metadata": {},
   "outputs": [
    {
     "name": "stdout",
     "output_type": "stream",
     "text": [
      "[2, 4, 5, 6, 8, 10, 12, 14, 15, 16, 18, 20, 22, 24, 25, 26, 28, 30, 32, 34, 35, 36, 38, 40, 42, 44, 45, 46, 48, 50, 52, 54, 55, 56, 58, 60, 62, 64, 65, 66, 68, 70, 72, 74, 75, 76, 78, 80, 82, 84, 85, 86, 88, 90, 92, 94, 95, 96, 98, 100]\n"
     ]
    }
   ],
   "source": [
    "numbers = list(range(1,101))                          # Using For Loop \n",
    "lis = []\n",
    "for i in numbers :\n",
    "    cube = i**3\n",
    "    if (cube%5 ==0) or (cube%4 == 0):\n",
    "        lis.append(i)\n",
    "print(lis)"
   ]
  },
  {
   "cell_type": "code",
   "execution_count": 34,
   "id": "91d688dc",
   "metadata": {},
   "outputs": [
    {
     "name": "stdout",
     "output_type": "stream",
     "text": [
      "[2, 4, 5, 6, 8, 10, 12, 14, 15, 16, 18, 20, 22, 24, 25, 26, 28, 30, 32, 34, 35, 36, 38, 40, 42, 44, 45, 46, 48, 50, 52, 54, 55, 56, 58, 60, 62, 64, 65, 66, 68, 70, 72, 74, 75, 76, 78, 80, 82, 84, 85, 86, 88, 90, 92, 94, 95, 96, 98, 100]\n"
     ]
    }
   ],
   "source": [
    "number1 = list(range(1,101))                           # Using While Loop\n",
    "lis = []\n",
    "\n",
    "i = 0\n",
    "while i < len(number1):\n",
    "    cube = number1[i] ** 3\n",
    "    if (cube%5 ==0) or (cube%4 == 0):\n",
    "        lis.append(number1[i])\n",
    "    i += 1\n",
    "print(lis)"
   ]
  },
  {
   "cell_type": "code",
   "execution_count": null,
   "id": "04a57f87",
   "metadata": {},
   "outputs": [],
   "source": [
    "# Q5. Write a program to filter count vowels in the below-given string.\n",
    "#     string = \"I want to become a data scientist\""
   ]
  },
  {
   "cell_type": "code",
   "execution_count": 43,
   "id": "af514a84",
   "metadata": {},
   "outputs": [
    {
     "name": "stdout",
     "output_type": "stream",
     "text": [
      "12\n"
     ]
    }
   ],
   "source": [
    "string = \"I want to become a data scientist\"\n",
    "count = 0\n",
    "for i in string:\n",
    "    if i == 'a' or i == 'e' or i == 'i' or i == 'o' or i == 'u' or i == 'A' or i == 'E' or i == 'I' or i == 'O' or i == 'U':\n",
    "        count += 1\n",
    "print(count)"
   ]
  },
  {
   "cell_type": "code",
   "execution_count": null,
   "id": "57f1d828",
   "metadata": {},
   "outputs": [],
   "source": []
  },
  {
   "cell_type": "code",
   "execution_count": null,
   "id": "1b0cd618",
   "metadata": {},
   "outputs": [],
   "source": []
  },
  {
   "cell_type": "code",
   "execution_count": null,
   "id": "173035b1",
   "metadata": {},
   "outputs": [],
   "source": []
  },
  {
   "cell_type": "code",
   "execution_count": null,
   "id": "0ae918d4",
   "metadata": {},
   "outputs": [],
   "source": []
  }
 ],
 "metadata": {
  "kernelspec": {
   "display_name": "Python 3 (ipykernel)",
   "language": "python",
   "name": "python3"
  },
  "language_info": {
   "codemirror_mode": {
    "name": "ipython",
    "version": 3
   },
   "file_extension": ".py",
   "mimetype": "text/x-python",
   "name": "python",
   "nbconvert_exporter": "python",
   "pygments_lexer": "ipython3",
   "version": "3.10.9"
  }
 },
 "nbformat": 4,
 "nbformat_minor": 5
}
